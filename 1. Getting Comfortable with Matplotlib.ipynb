{
  "nbformat": 4,
  "nbformat_minor": 0,
  "metadata": {
    "colab": {
      "provenance": []
    },
    "kernelspec": {
      "name": "python3",
      "display_name": "Python 3"
    },
    "language_info": {
      "name": "python"
    }
  },
  "cells": [
    {
      "cell_type": "markdown",
      "source": [
        "**Colab Submission File Link:**\n",
        "\n",
        "https://colab.research.google.com/drive/1_L7Dr1PfgPa7Ltz2bL5QxHYw_fQ6Tl_Y#scrollTo=zEFJm65UY5av"
      ],
      "metadata": {
        "id": "U4sr19uNaGza"
      }
    },
    {
      "cell_type": "code",
      "source": [
        "#Name: Subash Gupta Karamsetty\n",
        "#Znumber: Z23689645\n",
        "#Assignment Number: 2\n",
        "#Professor: Dr. Ghoraani\n",
        "\n",
        "#This is my Colab file link: https://colab.research.google.com/drive/1_L7Dr1PfgPa7Ltz2bL5QxHYw_fQ6Tl_Y#scrollTo=zEFJm65UY5av"
      ],
      "metadata": {
        "id": "q6QpkwPjkAxl"
      },
      "execution_count": null,
      "outputs": []
    },
    {
      "cell_type": "markdown",
      "source": [
        "**Plotting the sample inputs (0, 0), (0, 1), (1, 0), (1, 1) given in the question and representing each point as a 'o' in the plot.**"
      ],
      "metadata": {
        "id": "jDTFq4d5H6Wf"
      }
    },
    {
      "cell_type": "code",
      "execution_count": null,
      "metadata": {
        "colab": {
          "base_uri": "https://localhost:8080/",
          "height": 472
        },
        "id": "J0DOc7TxXj2J",
        "outputId": "873158e3-4ba1-4e4d-a7e0-f5ad5989467c"
      },
      "outputs": [
        {
          "output_type": "display_data",
          "data": {
            "text/plain": [
              "<Figure size 640x480 with 1 Axes>"
            ],
            "image/png": "[encoded data removed]"
          },
          "metadata": {}
        }
      ],
      "source": [
        "from matplotlib import pyplot as plt  #Importing pylot as plt from the matlplotlib module\n",
        "input_samples = [(0, 0), (0, 1), (1, 0), (1, 1)]\n",
        "x_points,y_points = zip(*input_samples)  #zip function is seperating the x_points and y_points for the each sample and giving us seperate lists.\n",
        "plt.plot(x_points, y_points, 'o')\n",
        "plt.xlabel(\"X - Axis\")\n",
        "plt.ylabel(\"Y - Axis\")\n",
        "plt.title(\"Data Samples Plot\")\n",
        "plt.show()"
      ]
    },
    {
      "cell_type": "markdown",
      "source": [
        "**Writing the below custom functions to perform AND, OR, XOR operations without using the bitwise AND, OR, XOR operators for the given sample inputs in the question and collecting the results and appending them to their respective function lists and printing them.**"
      ],
      "metadata": {
        "id": "AvRU1fDuHhAe"
      }
    },
    {
      "cell_type": "code",
      "source": [
        "def andFunction(a,b): #considering the sample points co-ordinates as the parameters to these functions.\n",
        "  if a * b == 1: #Bitwise and '&' is true only if both the values are 1 else it is false so written the logic to multiply both the values.\n",
        "    return 1\n",
        "  else:\n",
        "    return 0\n",
        "\n",
        "def orFunction(a,b):\n",
        "  if a + b != 0:  #Bitwise or '|' is false only if both the values are 0 else it is always true so written the logic to add both the values.\n",
        "    return 1\n",
        "  else:\n",
        "    return 0\n",
        "\n",
        "def xorFunction(a,b):\n",
        "  if a + b == 1:  #Bitwise XOR '^' is false only if both the values are same else it is true in the remaining cases, so written the logic to add both the values.\n",
        "    return 1\n",
        "  else:\n",
        "    return 0\n",
        "\n",
        "and_outputs = []\n",
        "or_outputs = []\n",
        "xor_outputs = []\n",
        "for i in input_samples:\n",
        "  x_cord,y_cord = i  #fetching the tuple (sample point) from the list.\n",
        "  and_outputs.append(andFunction(x_cord,y_cord)) #passing the sample point X,Y Coordinates as the input to the custom andFunction\n",
        "  or_outputs.append(orFunction(x_cord,y_cord))   #passing the sample point X,Y Coordinates as the input to the custom orFunction\n",
        "  xor_outputs.append(xorFunction(x_cord,y_cord)) #passing the sample point X,Y Coordinates as the input to the custom xorFunction\n",
        "\n",
        "print(\"The results after performing AND operation between each data sample co-ordinates is : {}\".format(and_outputs))\n",
        "print(\"The results after performing OR operation between each data sample co-ordinates is : {}\".format(or_outputs))\n",
        "print(\"The results after performing XOR operation between each data sample co-ordinates is : {}\".format(xor_outputs))\n"
      ],
      "metadata": {
        "colab": {
          "base_uri": "https://localhost:8080/"
        },
        "id": "zEFJm65UY5av",
        "outputId": "3d2d8208-4b52-479d-ab3b-97bf501ee2b9"
      },
      "execution_count": null,
      "outputs": [
        {
          "output_type": "stream",
          "name": "stdout",
          "text": [
            "The results after performing AND operation between each data sample co-ordinates is : [0, 0, 0, 1]\n",
            "The results after performing OR operation between each data sample co-ordinates is : [0, 1, 1, 1]\n",
            "The results after performing XOR operation between each data sample co-ordinates is : [0, 1, 1, 0]\n"
          ]
        }
      ]
    }
  ]
}
